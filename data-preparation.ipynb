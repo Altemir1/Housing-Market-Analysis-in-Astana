{
 "cells": [
  {
   "cell_type": "markdown",
   "metadata": {},
   "source": [
    "### Data Preparation Pipeline"
   ]
  },
  {
   "cell_type": "markdown",
   "metadata": {},
   "source": [
    "Loading dataset"
   ]
  },
  {
   "cell_type": "code",
   "execution_count": 193,
   "metadata": {},
   "outputs": [
    {
     "data": {
      "text/html": [
       "<div>\n",
       "<style scoped>\n",
       "    .dataframe tbody tr th:only-of-type {\n",
       "        vertical-align: middle;\n",
       "    }\n",
       "\n",
       "    .dataframe tbody tr th {\n",
       "        vertical-align: top;\n",
       "    }\n",
       "\n",
       "    .dataframe thead th {\n",
       "        text-align: right;\n",
       "    }\n",
       "</style>\n",
       "<table border=\"1\" class=\"dataframe\">\n",
       "  <thead>\n",
       "    <tr style=\"text-align: right;\">\n",
       "      <th></th>\n",
       "      <th>Unnamed: 0</th>\n",
       "      <th>Title</th>\n",
       "      <th>Price</th>\n",
       "      <th>Location</th>\n",
       "      <th>Link</th>\n",
       "    </tr>\n",
       "  </thead>\n",
       "  <tbody>\n",
       "    <tr>\n",
       "      <th>0</th>\n",
       "      <td>0</td>\n",
       "      <td>2-комнатная квартира · 48.1 м² · 10/10 этаж</td>\n",
       "      <td>26 400 000〒</td>\n",
       "      <td>Нура р-н, Айтматова — Мухамедханова</td>\n",
       "      <td>https://krisha.kz/a/show/760514087</td>\n",
       "    </tr>\n",
       "    <tr>\n",
       "      <th>1</th>\n",
       "      <td>1</td>\n",
       "      <td>3-комнатная квартира · 70 м² · 2/6 этаж</td>\n",
       "      <td>31 000 000〒</td>\n",
       "      <td>Алматы р-н, Кажымукана 16</td>\n",
       "      <td>https://krisha.kz/a/show/699137309</td>\n",
       "    </tr>\n",
       "    <tr>\n",
       "      <th>2</th>\n",
       "      <td>2</td>\n",
       "      <td>1-комнатная квартира · 40.4 м² · 8/9 этаж</td>\n",
       "      <td>17 800 000〒</td>\n",
       "      <td>Есильский р-н, Туран 89/3</td>\n",
       "      <td>https://krisha.kz/a/show/697594913</td>\n",
       "    </tr>\n",
       "    <tr>\n",
       "      <th>3</th>\n",
       "      <td>3</td>\n",
       "      <td>2-комнатная квартира · 75 м² · 4 этаж</td>\n",
       "      <td>51 000 000〒</td>\n",
       "      <td>Есильский р-н, Кабанбай батыра — Рыскулова</td>\n",
       "      <td>https://krisha.kz/a/show/1000167913</td>\n",
       "    </tr>\n",
       "    <tr>\n",
       "      <th>4</th>\n",
       "      <td>4</td>\n",
       "      <td>1-комнатная квартира · 45 м² · 9/9 этаж</td>\n",
       "      <td>25 000 000〒</td>\n",
       "      <td>Есильский р-н, Мангилик Ел 19/2</td>\n",
       "      <td>https://krisha.kz/a/show/699116404</td>\n",
       "    </tr>\n",
       "    <tr>\n",
       "      <th>...</th>\n",
       "      <td>...</td>\n",
       "      <td>...</td>\n",
       "      <td>...</td>\n",
       "      <td>...</td>\n",
       "      <td>...</td>\n",
       "    </tr>\n",
       "    <tr>\n",
       "      <th>19998</th>\n",
       "      <td>19998</td>\n",
       "      <td>4-комнатная квартира · 167.9 м² · 10/10 этаж</td>\n",
       "      <td>90 000 000〒</td>\n",
       "      <td>Алматы р-н, ул. Ахмет Байтурсынова</td>\n",
       "      <td>https://krisha.kz/a/show/52422256</td>\n",
       "    </tr>\n",
       "    <tr>\n",
       "      <th>19999</th>\n",
       "      <td>19999</td>\n",
       "      <td>3-комнатная квартира · 66.5 м² · 5/5 этаж</td>\n",
       "      <td>30 000 000〒</td>\n",
       "      <td>Алматы р-н, сатпаева 13/3</td>\n",
       "      <td>https://krisha.kz/a/show/761797657</td>\n",
       "    </tr>\n",
       "    <tr>\n",
       "      <th>20000</th>\n",
       "      <td>20000</td>\n",
       "      <td>3-комнатная квартира · 72 м² · 12/13 этаж</td>\n",
       "      <td>53 000 000〒</td>\n",
       "      <td>Нура р-н, сыганак 24</td>\n",
       "      <td>https://krisha.kz/a/show/761587982</td>\n",
       "    </tr>\n",
       "    <tr>\n",
       "      <th>20001</th>\n",
       "      <td>20001</td>\n",
       "      <td>1-комнатная квартира · 30 м² · 1/6 этаж</td>\n",
       "      <td>14 500 000〒</td>\n",
       "      <td>Есильский р-н, Кабанбай батыра 107</td>\n",
       "      <td>https://krisha.kz/a/show/692094979</td>\n",
       "    </tr>\n",
       "    <tr>\n",
       "      <th>20002</th>\n",
       "      <td>20002</td>\n",
       "      <td>1-комнатная квартира · 41 м² · 3/15 этаж</td>\n",
       "      <td>22 400 000〒</td>\n",
       "      <td>Сарайшык р-н, Кошкарбаева 32/1</td>\n",
       "      <td>https://krisha.kz/a/show/1000143883</td>\n",
       "    </tr>\n",
       "  </tbody>\n",
       "</table>\n",
       "<p>20003 rows × 5 columns</p>\n",
       "</div>"
      ],
      "text/plain": [
       "       Unnamed: 0                                         Title        Price  \\\n",
       "0               0   2-комнатная квартира · 48.1 м² · 10/10 этаж  26 400 000〒   \n",
       "1               1       3-комнатная квартира · 70 м² · 2/6 этаж  31 000 000〒   \n",
       "2               2     1-комнатная квартира · 40.4 м² · 8/9 этаж  17 800 000〒   \n",
       "3               3         2-комнатная квартира · 75 м² · 4 этаж  51 000 000〒   \n",
       "4               4       1-комнатная квартира · 45 м² · 9/9 этаж  25 000 000〒   \n",
       "...           ...                                           ...          ...   \n",
       "19998       19998  4-комнатная квартира · 167.9 м² · 10/10 этаж  90 000 000〒   \n",
       "19999       19999     3-комнатная квартира · 66.5 м² · 5/5 этаж  30 000 000〒   \n",
       "20000       20000     3-комнатная квартира · 72 м² · 12/13 этаж  53 000 000〒   \n",
       "20001       20001       1-комнатная квартира · 30 м² · 1/6 этаж  14 500 000〒   \n",
       "20002       20002      1-комнатная квартира · 41 м² · 3/15 этаж  22 400 000〒   \n",
       "\n",
       "                                         Location  \\\n",
       "0             Нура р-н, Айтматова — Мухамедханова   \n",
       "1                       Алматы р-н, Кажымукана 16   \n",
       "2                       Есильский р-н, Туран 89/3   \n",
       "3      Есильский р-н, Кабанбай батыра — Рыскулова   \n",
       "4                 Есильский р-н, Мангилик Ел 19/2   \n",
       "...                                           ...   \n",
       "19998          Алматы р-н, ул. Ахмет Байтурсынова   \n",
       "19999                   Алматы р-н, сатпаева 13/3   \n",
       "20000                        Нура р-н, сыганак 24   \n",
       "20001          Есильский р-н, Кабанбай батыра 107   \n",
       "20002              Сарайшык р-н, Кошкарбаева 32/1   \n",
       "\n",
       "                                      Link  \n",
       "0       https://krisha.kz/a/show/760514087  \n",
       "1       https://krisha.kz/a/show/699137309  \n",
       "2       https://krisha.kz/a/show/697594913  \n",
       "3      https://krisha.kz/a/show/1000167913  \n",
       "4       https://krisha.kz/a/show/699116404  \n",
       "...                                    ...  \n",
       "19998    https://krisha.kz/a/show/52422256  \n",
       "19999   https://krisha.kz/a/show/761797657  \n",
       "20000   https://krisha.kz/a/show/761587982  \n",
       "20001   https://krisha.kz/a/show/692094979  \n",
       "20002  https://krisha.kz/a/show/1000143883  \n",
       "\n",
       "[20003 rows x 5 columns]"
      ]
     },
     "execution_count": 193,
     "metadata": {},
     "output_type": "execute_result"
    }
   ],
   "source": [
    "import pandas as pd\n",
    "\n",
    "df = pd.read_csv(\"/Users/altemir_1/Desktop/Housing-Analysis/data/raw/astana_sale_raw_march_2025.csv\")\n",
    "\n",
    "df"
   ]
  },
  {
   "cell_type": "code",
   "execution_count": 194,
   "metadata": {},
   "outputs": [
    {
     "data": {
      "text/html": [
       "<div>\n",
       "<style scoped>\n",
       "    .dataframe tbody tr th:only-of-type {\n",
       "        vertical-align: middle;\n",
       "    }\n",
       "\n",
       "    .dataframe tbody tr th {\n",
       "        vertical-align: top;\n",
       "    }\n",
       "\n",
       "    .dataframe thead th {\n",
       "        text-align: right;\n",
       "    }\n",
       "</style>\n",
       "<table border=\"1\" class=\"dataframe\">\n",
       "  <thead>\n",
       "    <tr style=\"text-align: right;\">\n",
       "      <th></th>\n",
       "      <th>Title</th>\n",
       "      <th>Price</th>\n",
       "      <th>Location</th>\n",
       "      <th>Link</th>\n",
       "    </tr>\n",
       "  </thead>\n",
       "  <tbody>\n",
       "    <tr>\n",
       "      <th>0</th>\n",
       "      <td>2-комнатная квартира · 48.1 м² · 10/10 этаж</td>\n",
       "      <td>26 400 000〒</td>\n",
       "      <td>Нура р-н, Айтматова — Мухамедханова</td>\n",
       "      <td>https://krisha.kz/a/show/760514087</td>\n",
       "    </tr>\n",
       "    <tr>\n",
       "      <th>1</th>\n",
       "      <td>3-комнатная квартира · 70 м² · 2/6 этаж</td>\n",
       "      <td>31 000 000〒</td>\n",
       "      <td>Алматы р-н, Кажымукана 16</td>\n",
       "      <td>https://krisha.kz/a/show/699137309</td>\n",
       "    </tr>\n",
       "    <tr>\n",
       "      <th>2</th>\n",
       "      <td>1-комнатная квартира · 40.4 м² · 8/9 этаж</td>\n",
       "      <td>17 800 000〒</td>\n",
       "      <td>Есильский р-н, Туран 89/3</td>\n",
       "      <td>https://krisha.kz/a/show/697594913</td>\n",
       "    </tr>\n",
       "    <tr>\n",
       "      <th>3</th>\n",
       "      <td>2-комнатная квартира · 75 м² · 4 этаж</td>\n",
       "      <td>51 000 000〒</td>\n",
       "      <td>Есильский р-н, Кабанбай батыра — Рыскулова</td>\n",
       "      <td>https://krisha.kz/a/show/1000167913</td>\n",
       "    </tr>\n",
       "    <tr>\n",
       "      <th>4</th>\n",
       "      <td>1-комнатная квартира · 45 м² · 9/9 этаж</td>\n",
       "      <td>25 000 000〒</td>\n",
       "      <td>Есильский р-н, Мангилик Ел 19/2</td>\n",
       "      <td>https://krisha.kz/a/show/699116404</td>\n",
       "    </tr>\n",
       "    <tr>\n",
       "      <th>...</th>\n",
       "      <td>...</td>\n",
       "      <td>...</td>\n",
       "      <td>...</td>\n",
       "      <td>...</td>\n",
       "    </tr>\n",
       "    <tr>\n",
       "      <th>19998</th>\n",
       "      <td>4-комнатная квартира · 167.9 м² · 10/10 этаж</td>\n",
       "      <td>90 000 000〒</td>\n",
       "      <td>Алматы р-н, ул. Ахмет Байтурсынова</td>\n",
       "      <td>https://krisha.kz/a/show/52422256</td>\n",
       "    </tr>\n",
       "    <tr>\n",
       "      <th>19999</th>\n",
       "      <td>3-комнатная квартира · 66.5 м² · 5/5 этаж</td>\n",
       "      <td>30 000 000〒</td>\n",
       "      <td>Алматы р-н, сатпаева 13/3</td>\n",
       "      <td>https://krisha.kz/a/show/761797657</td>\n",
       "    </tr>\n",
       "    <tr>\n",
       "      <th>20000</th>\n",
       "      <td>3-комнатная квартира · 72 м² · 12/13 этаж</td>\n",
       "      <td>53 000 000〒</td>\n",
       "      <td>Нура р-н, сыганак 24</td>\n",
       "      <td>https://krisha.kz/a/show/761587982</td>\n",
       "    </tr>\n",
       "    <tr>\n",
       "      <th>20001</th>\n",
       "      <td>1-комнатная квартира · 30 м² · 1/6 этаж</td>\n",
       "      <td>14 500 000〒</td>\n",
       "      <td>Есильский р-н, Кабанбай батыра 107</td>\n",
       "      <td>https://krisha.kz/a/show/692094979</td>\n",
       "    </tr>\n",
       "    <tr>\n",
       "      <th>20002</th>\n",
       "      <td>1-комнатная квартира · 41 м² · 3/15 этаж</td>\n",
       "      <td>22 400 000〒</td>\n",
       "      <td>Сарайшык р-н, Кошкарбаева 32/1</td>\n",
       "      <td>https://krisha.kz/a/show/1000143883</td>\n",
       "    </tr>\n",
       "  </tbody>\n",
       "</table>\n",
       "<p>20003 rows × 4 columns</p>\n",
       "</div>"
      ],
      "text/plain": [
       "                                              Title        Price  \\\n",
       "0       2-комнатная квартира · 48.1 м² · 10/10 этаж  26 400 000〒   \n",
       "1           3-комнатная квартира · 70 м² · 2/6 этаж  31 000 000〒   \n",
       "2         1-комнатная квартира · 40.4 м² · 8/9 этаж  17 800 000〒   \n",
       "3             2-комнатная квартира · 75 м² · 4 этаж  51 000 000〒   \n",
       "4           1-комнатная квартира · 45 м² · 9/9 этаж  25 000 000〒   \n",
       "...                                             ...          ...   \n",
       "19998  4-комнатная квартира · 167.9 м² · 10/10 этаж  90 000 000〒   \n",
       "19999     3-комнатная квартира · 66.5 м² · 5/5 этаж  30 000 000〒   \n",
       "20000     3-комнатная квартира · 72 м² · 12/13 этаж  53 000 000〒   \n",
       "20001       1-комнатная квартира · 30 м² · 1/6 этаж  14 500 000〒   \n",
       "20002      1-комнатная квартира · 41 м² · 3/15 этаж  22 400 000〒   \n",
       "\n",
       "                                         Location  \\\n",
       "0             Нура р-н, Айтматова — Мухамедханова   \n",
       "1                       Алматы р-н, Кажымукана 16   \n",
       "2                       Есильский р-н, Туран 89/3   \n",
       "3      Есильский р-н, Кабанбай батыра — Рыскулова   \n",
       "4                 Есильский р-н, Мангилик Ел 19/2   \n",
       "...                                           ...   \n",
       "19998          Алматы р-н, ул. Ахмет Байтурсынова   \n",
       "19999                   Алматы р-н, сатпаева 13/3   \n",
       "20000                        Нура р-н, сыганак 24   \n",
       "20001          Есильский р-н, Кабанбай батыра 107   \n",
       "20002              Сарайшык р-н, Кошкарбаева 32/1   \n",
       "\n",
       "                                      Link  \n",
       "0       https://krisha.kz/a/show/760514087  \n",
       "1       https://krisha.kz/a/show/699137309  \n",
       "2       https://krisha.kz/a/show/697594913  \n",
       "3      https://krisha.kz/a/show/1000167913  \n",
       "4       https://krisha.kz/a/show/699116404  \n",
       "...                                    ...  \n",
       "19998    https://krisha.kz/a/show/52422256  \n",
       "19999   https://krisha.kz/a/show/761797657  \n",
       "20000   https://krisha.kz/a/show/761587982  \n",
       "20001   https://krisha.kz/a/show/692094979  \n",
       "20002  https://krisha.kz/a/show/1000143883  \n",
       "\n",
       "[20003 rows x 4 columns]"
      ]
     },
     "execution_count": 194,
     "metadata": {},
     "output_type": "execute_result"
    }
   ],
   "source": [
    "df.drop(\"Unnamed: 0\", axis=1, inplace=True)\n",
    "df "
   ]
  },
  {
   "cell_type": "markdown",
   "metadata": {},
   "source": [
    "Splitting title into rooms, area and floor information"
   ]
  },
  {
   "cell_type": "code",
   "execution_count": 195,
   "metadata": {},
   "outputs": [],
   "source": [
    "split_df = df[\"Title\"].str.split(\"·\", expand=True)\n",
    "\n",
    "df[\"number_of_rooms\"] = split_df[0]\n",
    "df[\"area\"] = split_df[1]\n",
    "df[\"floor\"] = split_df[2]\n",
    "\n",
    "df.drop(\"Title\", axis=1, inplace=True)"
   ]
  },
  {
   "cell_type": "markdown",
   "metadata": {},
   "source": [
    "Price"
   ]
  },
  {
   "cell_type": "code",
   "execution_count": 196,
   "metadata": {},
   "outputs": [],
   "source": [
    "df[\"Price\"] = df[\"Price\"].str.replace(\"〒\", \"\", regex=False)\n",
    "df[\"Price\"] = df[\"Price\"].str.replace(\"\\xa0\", \"\")\n",
    "df[\"Price\"] = df[\"Price\"].str.replace(\"от\", \"\")\n",
    "df[\"Price\"] = df[\"Price\"].astype(int)"
   ]
  },
  {
   "cell_type": "markdown",
   "metadata": {},
   "source": [
    "Area"
   ]
  },
  {
   "cell_type": "code",
   "execution_count": 197,
   "metadata": {},
   "outputs": [],
   "source": [
    "df[\"area\"] = df[\"area\"].str.replace(\"м²\", \"\")\n",
    "df[\"area\"] = df[\"area\"].astype(float)"
   ]
  },
  {
   "cell_type": "markdown",
   "metadata": {},
   "source": [
    "Number of Rooms"
   ]
  },
  {
   "cell_type": "code",
   "execution_count": 198,
   "metadata": {},
   "outputs": [],
   "source": [
    "df[\"number_of_rooms\"] = df[\"number_of_rooms\"].str.replace(\"-комнатная квартира\", \"\")\n",
    "df[\"number_of_rooms\"] = df[\"number_of_rooms\"].astype(int)"
   ]
  },
  {
   "cell_type": "markdown",
   "metadata": {},
   "source": [
    "Floor"
   ]
  },
  {
   "cell_type": "code",
   "execution_count": 199,
   "metadata": {},
   "outputs": [],
   "source": [
    "split_floor_df = df[\"floor\"].str.split(\"/\", expand=True)\n",
    "df[\"floor\"] = split_floor_df[0]\n"
   ]
  },
  {
   "cell_type": "code",
   "execution_count": 204,
   "metadata": {},
   "outputs": [
    {
     "data": {
      "text/plain": [
       "np.int64(1212)"
      ]
     },
     "execution_count": 204,
     "metadata": {},
     "output_type": "execute_result"
    }
   ],
   "source": []
  },
  {
   "cell_type": "code",
   "execution_count": 205,
   "metadata": {},
   "outputs": [
    {
     "name": "stderr",
     "output_type": "stream",
     "text": [
      "/var/folders/vx/qnjn5crx6n17qty1n6m8kf4w0000gn/T/ipykernel_45753/1383255438.py:4: FutureWarning: A value is trying to be set on a copy of a DataFrame or Series through chained assignment using an inplace method.\n",
      "The behavior will change in pandas 3.0. This inplace method will never work because the intermediate object on which we are setting values always behaves as a copy.\n",
      "\n",
      "For example, when doing 'df[col].method(value, inplace=True)', try using 'df.method({col: value}, inplace=True)' or df[col] = df[col].method(value) instead, to perform the operation inplace on the original object.\n",
      "\n",
      "\n",
      "  df.floor.fillna(df.floor.mode()[0], inplace=True)\n"
     ]
    }
   ],
   "source": [
    "df.floor = df[\"floor\"].str.replace(\" \", \"\")\n",
    "df.floor = df[\"floor\"].str.replace(\"\\xa0\", \"\").str.replace(\"этаж\",\"\")\n",
    "df.floor = df[\"floor\"].str.replace(\"помесячно\", \"0\")\n",
    "df.floor.fillna(df.floor.mode()[0], inplace=True)"
   ]
  },
  {
   "cell_type": "code",
   "execution_count": 206,
   "metadata": {},
   "outputs": [
    {
     "data": {
      "text/plain": [
       "np.int64(0)"
      ]
     },
     "execution_count": 206,
     "metadata": {},
     "output_type": "execute_result"
    }
   ],
   "source": [
    "df.floor.isnull().sum()"
   ]
  },
  {
   "cell_type": "code",
   "execution_count": 207,
   "metadata": {},
   "outputs": [],
   "source": [
    "df.floor = df.floor.astype(int)"
   ]
  },
  {
   "cell_type": "markdown",
   "metadata": {},
   "source": [
    "District and Address"
   ]
  },
  {
   "cell_type": "code",
   "execution_count": 208,
   "metadata": {},
   "outputs": [],
   "source": [
    "split_location_df = df[\"Location\"].str.split(\",\", expand=True)\n",
    "df[\"district\"] = split_location_df[0]\n",
    "df[\"adress\"] = split_location_df[1]"
   ]
  },
  {
   "cell_type": "code",
   "execution_count": 212,
   "metadata": {},
   "outputs": [],
   "source": [
    "# Define your valid districts list\n",
    "valid_districts = [\n",
    "    \"Есильский р-н\", \"Сарыарка р-н\", \"Алматы р-н\", \"Нура р-н\", \"р-н Байконур\", \"Сарайшык р-н\"\n",
    "]\n",
    "\n",
    "# Function to fix district and address columns\n",
    "def fix_district_and_address(row):\n",
    "    if row['district'] not in valid_districts and pd.isna(row['adress']):\n",
    "        # Move the 'district' value to 'adress'\n",
    "        row['adress'] = row['district']\n",
    "        # Replace 'district' value with 'Unknown District'\n",
    "        row['district'] = \"Unknown District\"\n",
    "    return row\n",
    "\n",
    "# Apply the function to every row in the DataFrame\n",
    "df = df.apply(fix_district_and_address, axis=1)"
   ]
  },
  {
   "cell_type": "code",
   "execution_count": 216,
   "metadata": {},
   "outputs": [],
   "source": [
    "df.adress.fillna(\"unknown\", inplace=True)"
   ]
  },
  {
   "cell_type": "markdown",
   "metadata": {},
   "source": [
    "Checking for null values"
   ]
  },
  {
   "cell_type": "code",
   "execution_count": 217,
   "metadata": {},
   "outputs": [
    {
     "data": {
      "text/plain": [
       "Price              0\n",
       "Location           0\n",
       "Link               0\n",
       "number_of_rooms    0\n",
       "area               0\n",
       "floor              0\n",
       "district           0\n",
       "adress             0\n",
       "dtype: int64"
      ]
     },
     "execution_count": 217,
     "metadata": {},
     "output_type": "execute_result"
    }
   ],
   "source": [
    "df.isnull().sum()"
   ]
  },
  {
   "cell_type": "markdown",
   "metadata": {},
   "source": [
    "Deleteing unnecessary columns and renaming for convention"
   ]
  },
  {
   "cell_type": "code",
   "execution_count": 218,
   "metadata": {},
   "outputs": [
    {
     "data": {
      "text/html": [
       "<div>\n",
       "<style scoped>\n",
       "    .dataframe tbody tr th:only-of-type {\n",
       "        vertical-align: middle;\n",
       "    }\n",
       "\n",
       "    .dataframe tbody tr th {\n",
       "        vertical-align: top;\n",
       "    }\n",
       "\n",
       "    .dataframe thead th {\n",
       "        text-align: right;\n",
       "    }\n",
       "</style>\n",
       "<table border=\"1\" class=\"dataframe\">\n",
       "  <thead>\n",
       "    <tr style=\"text-align: right;\">\n",
       "      <th></th>\n",
       "      <th>price</th>\n",
       "      <th>link</th>\n",
       "      <th>number_of_rooms</th>\n",
       "      <th>area</th>\n",
       "      <th>floor</th>\n",
       "      <th>district</th>\n",
       "      <th>address</th>\n",
       "    </tr>\n",
       "  </thead>\n",
       "  <tbody>\n",
       "    <tr>\n",
       "      <th>0</th>\n",
       "      <td>26400000</td>\n",
       "      <td>https://krisha.kz/a/show/760514087</td>\n",
       "      <td>2</td>\n",
       "      <td>48.1</td>\n",
       "      <td>10</td>\n",
       "      <td>Нура р-н</td>\n",
       "      <td>Айтматова — Мухамедханова</td>\n",
       "    </tr>\n",
       "    <tr>\n",
       "      <th>1</th>\n",
       "      <td>31000000</td>\n",
       "      <td>https://krisha.kz/a/show/699137309</td>\n",
       "      <td>3</td>\n",
       "      <td>70.0</td>\n",
       "      <td>2</td>\n",
       "      <td>Алматы р-н</td>\n",
       "      <td>Кажымукана 16</td>\n",
       "    </tr>\n",
       "    <tr>\n",
       "      <th>2</th>\n",
       "      <td>17800000</td>\n",
       "      <td>https://krisha.kz/a/show/697594913</td>\n",
       "      <td>1</td>\n",
       "      <td>40.4</td>\n",
       "      <td>8</td>\n",
       "      <td>Есильский р-н</td>\n",
       "      <td>Туран 89/3</td>\n",
       "    </tr>\n",
       "    <tr>\n",
       "      <th>3</th>\n",
       "      <td>51000000</td>\n",
       "      <td>https://krisha.kz/a/show/1000167913</td>\n",
       "      <td>2</td>\n",
       "      <td>75.0</td>\n",
       "      <td>4</td>\n",
       "      <td>Есильский р-н</td>\n",
       "      <td>Кабанбай батыра — Рыскулова</td>\n",
       "    </tr>\n",
       "    <tr>\n",
       "      <th>4</th>\n",
       "      <td>25000000</td>\n",
       "      <td>https://krisha.kz/a/show/699116404</td>\n",
       "      <td>1</td>\n",
       "      <td>45.0</td>\n",
       "      <td>9</td>\n",
       "      <td>Есильский р-н</td>\n",
       "      <td>Мангилик Ел 19/2</td>\n",
       "    </tr>\n",
       "    <tr>\n",
       "      <th>...</th>\n",
       "      <td>...</td>\n",
       "      <td>...</td>\n",
       "      <td>...</td>\n",
       "      <td>...</td>\n",
       "      <td>...</td>\n",
       "      <td>...</td>\n",
       "      <td>...</td>\n",
       "    </tr>\n",
       "    <tr>\n",
       "      <th>19998</th>\n",
       "      <td>90000000</td>\n",
       "      <td>https://krisha.kz/a/show/52422256</td>\n",
       "      <td>4</td>\n",
       "      <td>167.9</td>\n",
       "      <td>10</td>\n",
       "      <td>Алматы р-н</td>\n",
       "      <td>ул. Ахмет Байтурсынова</td>\n",
       "    </tr>\n",
       "    <tr>\n",
       "      <th>19999</th>\n",
       "      <td>30000000</td>\n",
       "      <td>https://krisha.kz/a/show/761797657</td>\n",
       "      <td>3</td>\n",
       "      <td>66.5</td>\n",
       "      <td>5</td>\n",
       "      <td>Алматы р-н</td>\n",
       "      <td>сатпаева 13/3</td>\n",
       "    </tr>\n",
       "    <tr>\n",
       "      <th>20000</th>\n",
       "      <td>53000000</td>\n",
       "      <td>https://krisha.kz/a/show/761587982</td>\n",
       "      <td>3</td>\n",
       "      <td>72.0</td>\n",
       "      <td>12</td>\n",
       "      <td>Нура р-н</td>\n",
       "      <td>сыганак 24</td>\n",
       "    </tr>\n",
       "    <tr>\n",
       "      <th>20001</th>\n",
       "      <td>14500000</td>\n",
       "      <td>https://krisha.kz/a/show/692094979</td>\n",
       "      <td>1</td>\n",
       "      <td>30.0</td>\n",
       "      <td>1</td>\n",
       "      <td>Есильский р-н</td>\n",
       "      <td>Кабанбай батыра 107</td>\n",
       "    </tr>\n",
       "    <tr>\n",
       "      <th>20002</th>\n",
       "      <td>22400000</td>\n",
       "      <td>https://krisha.kz/a/show/1000143883</td>\n",
       "      <td>1</td>\n",
       "      <td>41.0</td>\n",
       "      <td>3</td>\n",
       "      <td>Сарайшык р-н</td>\n",
       "      <td>Кошкарбаева 32/1</td>\n",
       "    </tr>\n",
       "  </tbody>\n",
       "</table>\n",
       "<p>20003 rows × 7 columns</p>\n",
       "</div>"
      ],
      "text/plain": [
       "          price                                 link  number_of_rooms   area  \\\n",
       "0      26400000   https://krisha.kz/a/show/760514087                2   48.1   \n",
       "1      31000000   https://krisha.kz/a/show/699137309                3   70.0   \n",
       "2      17800000   https://krisha.kz/a/show/697594913                1   40.4   \n",
       "3      51000000  https://krisha.kz/a/show/1000167913                2   75.0   \n",
       "4      25000000   https://krisha.kz/a/show/699116404                1   45.0   \n",
       "...         ...                                  ...              ...    ...   \n",
       "19998  90000000    https://krisha.kz/a/show/52422256                4  167.9   \n",
       "19999  30000000   https://krisha.kz/a/show/761797657                3   66.5   \n",
       "20000  53000000   https://krisha.kz/a/show/761587982                3   72.0   \n",
       "20001  14500000   https://krisha.kz/a/show/692094979                1   30.0   \n",
       "20002  22400000  https://krisha.kz/a/show/1000143883                1   41.0   \n",
       "\n",
       "       floor       district                       address  \n",
       "0         10       Нура р-н     Айтматова — Мухамедханова  \n",
       "1          2     Алматы р-н                 Кажымукана 16  \n",
       "2          8  Есильский р-н                    Туран 89/3  \n",
       "3          4  Есильский р-н   Кабанбай батыра — Рыскулова  \n",
       "4          9  Есильский р-н              Мангилик Ел 19/2  \n",
       "...      ...            ...                           ...  \n",
       "19998     10     Алматы р-н        ул. Ахмет Байтурсынова  \n",
       "19999      5     Алматы р-н                 сатпаева 13/3  \n",
       "20000     12       Нура р-н                    сыганак 24  \n",
       "20001      1  Есильский р-н           Кабанбай батыра 107  \n",
       "20002      3   Сарайшык р-н              Кошкарбаева 32/1  \n",
       "\n",
       "[20003 rows x 7 columns]"
      ]
     },
     "execution_count": 218,
     "metadata": {},
     "output_type": "execute_result"
    }
   ],
   "source": [
    "df.rename(columns={\"Price\": \"price\", \"Link\": \"link\", \"adress\": \"address\"}, inplace=True)\n",
    "df.drop(\"Location\", axis=1, inplace=True)\n",
    "df"
   ]
  },
  {
   "cell_type": "markdown",
   "metadata": {},
   "source": [
    "Saving final variant"
   ]
  },
  {
   "cell_type": "code",
   "execution_count": 219,
   "metadata": {},
   "outputs": [],
   "source": [
    "df.to_csv(\"astan_sale_cleaned_march_2025.csv\", index=False)"
   ]
  },
  {
   "cell_type": "markdown",
   "metadata": {},
   "source": [
    "### Feature distribution and outliers"
   ]
  },
  {
   "cell_type": "markdown",
   "metadata": {},
   "source": [
    "Feature distribuions"
   ]
  },
  {
   "cell_type": "code",
   "execution_count": null,
   "metadata": {},
   "outputs": [
    {
     "data": {
      "text/html": [
       "<div>\n",
       "<style scoped>\n",
       "    .dataframe tbody tr th:only-of-type {\n",
       "        vertical-align: middle;\n",
       "    }\n",
       "\n",
       "    .dataframe tbody tr th {\n",
       "        vertical-align: top;\n",
       "    }\n",
       "\n",
       "    .dataframe thead th {\n",
       "        text-align: right;\n",
       "    }\n",
       "</style>\n",
       "<table border=\"1\" class=\"dataframe\">\n",
       "  <thead>\n",
       "    <tr style=\"text-align: right;\">\n",
       "      <th></th>\n",
       "      <th>price</th>\n",
       "      <th>link</th>\n",
       "      <th>number_of_rooms</th>\n",
       "      <th>area</th>\n",
       "      <th>floor</th>\n",
       "      <th>district</th>\n",
       "      <th>address</th>\n",
       "    </tr>\n",
       "  </thead>\n",
       "  <tbody>\n",
       "    <tr>\n",
       "      <th>0</th>\n",
       "      <td>130000</td>\n",
       "      <td>https://krisha.kz/a/show/760402765</td>\n",
       "      <td>1</td>\n",
       "      <td>40.0</td>\n",
       "      <td>0</td>\n",
       "      <td>Есильский р-н</td>\n",
       "      <td>Е-15 3</td>\n",
       "    </tr>\n",
       "    <tr>\n",
       "      <th>1</th>\n",
       "      <td>250000</td>\n",
       "      <td>https://krisha.kz/a/show/698600297</td>\n",
       "      <td>3</td>\n",
       "      <td>90.0</td>\n",
       "      <td>6</td>\n",
       "      <td>Сарыарка р-н</td>\n",
       "      <td>Сарыарка 31/2</td>\n",
       "    </tr>\n",
       "    <tr>\n",
       "      <th>2</th>\n",
       "      <td>120000</td>\n",
       "      <td>https://krisha.kz/a/show/698333334</td>\n",
       "      <td>2</td>\n",
       "      <td>30.0</td>\n",
       "      <td>4</td>\n",
       "      <td>Сарыарка р-н</td>\n",
       "      <td>Республика 76 — ЖД Вокзал старый</td>\n",
       "    </tr>\n",
       "    <tr>\n",
       "      <th>3</th>\n",
       "      <td>170000</td>\n",
       "      <td>https://krisha.kz/a/show/682941229</td>\n",
       "      <td>1</td>\n",
       "      <td>36.0</td>\n",
       "      <td>2</td>\n",
       "      <td>Нура р-н</td>\n",
       "      <td>Чингиз Айтматов 60/1</td>\n",
       "    </tr>\n",
       "    <tr>\n",
       "      <th>4</th>\n",
       "      <td>400000</td>\n",
       "      <td>https://krisha.kz/a/show/761561653</td>\n",
       "      <td>4</td>\n",
       "      <td>160.0</td>\n",
       "      <td>18</td>\n",
       "      <td>Есильский р-н</td>\n",
       "      <td>Динмухаммед Кунаев</td>\n",
       "    </tr>\n",
       "  </tbody>\n",
       "</table>\n",
       "</div>"
      ],
      "text/plain": [
       "    price                                link  number_of_rooms   area  floor  \\\n",
       "0  130000  https://krisha.kz/a/show/760402765                1   40.0      0   \n",
       "1  250000  https://krisha.kz/a/show/698600297                3   90.0      6   \n",
       "2  120000  https://krisha.kz/a/show/698333334                2   30.0      4   \n",
       "3  170000  https://krisha.kz/a/show/682941229                1   36.0      2   \n",
       "4  400000  https://krisha.kz/a/show/761561653                4  160.0     18   \n",
       "\n",
       "        district                            address  \n",
       "0  Есильский р-н                             Е-15 3  \n",
       "1   Сарыарка р-н                      Сарыарка 31/2  \n",
       "2   Сарыарка р-н   Республика 76 — ЖД Вокзал старый  \n",
       "3       Нура р-н               Чингиз Айтматов 60/1  \n",
       "4  Есильский р-н                 Динмухаммед Кунаев  "
      ]
     },
     "metadata": {},
     "output_type": "display_data"
    }
   ],
   "source": [
    "import pandas as pd\n",
    "df = pd.read_csv(\"/Users/altemir_1/Desktop/Housing-Market-Analysis-in-Astana/data/processed/astan_rent_cleaned_march_2025.csv\")\n",
    "df.head()"
   ]
  },
  {
   "cell_type": "code",
   "execution_count": null,
   "metadata": {},
   "outputs": [
    {
     "name": "stdout",
     "output_type": "stream",
     "text": [
      "<class 'pandas.core.frame.DataFrame'>\n",
      "RangeIndex: 8424 entries, 0 to 8423\n",
      "Data columns (total 7 columns):\n",
      " #   Column           Non-Null Count  Dtype  \n",
      "---  ------           --------------  -----  \n",
      " 0   price            8424 non-null   int64  \n",
      " 1   link             8424 non-null   object \n",
      " 2   number_of_rooms  8424 non-null   int64  \n",
      " 3   area             8424 non-null   float64\n",
      " 4   floor            8424 non-null   int64  \n",
      " 5   district         8424 non-null   object \n",
      " 6   address          8424 non-null   object \n",
      "dtypes: float64(1), int64(3), object(3)\n",
      "memory usage: 460.8+ KB\n"
     ]
    }
   ],
   "source": [
    "df.info()"
   ]
  },
  {
   "cell_type": "code",
   "execution_count": null,
   "metadata": {},
   "outputs": [
    {
     "data": {
      "text/html": [
       "<div>\n",
       "<style scoped>\n",
       "    .dataframe tbody tr th:only-of-type {\n",
       "        vertical-align: middle;\n",
       "    }\n",
       "\n",
       "    .dataframe tbody tr th {\n",
       "        vertical-align: top;\n",
       "    }\n",
       "\n",
       "    .dataframe thead th {\n",
       "        text-align: right;\n",
       "    }\n",
       "</style>\n",
       "<table border=\"1\" class=\"dataframe\">\n",
       "  <thead>\n",
       "    <tr style=\"text-align: right;\">\n",
       "      <th></th>\n",
       "      <th>price</th>\n",
       "      <th>number_of_rooms</th>\n",
       "      <th>area</th>\n",
       "      <th>floor</th>\n",
       "    </tr>\n",
       "  </thead>\n",
       "  <tbody>\n",
       "    <tr>\n",
       "      <th>count</th>\n",
       "      <td>8.424000e+03</td>\n",
       "      <td>8424.000000</td>\n",
       "      <td>8424.000000</td>\n",
       "      <td>8424.000000</td>\n",
       "    </tr>\n",
       "    <tr>\n",
       "      <th>mean</th>\n",
       "      <td>3.416339e+05</td>\n",
       "      <td>1.944088</td>\n",
       "      <td>67.778812</td>\n",
       "      <td>6.445988</td>\n",
       "    </tr>\n",
       "    <tr>\n",
       "      <th>std</th>\n",
       "      <td>3.615316e+05</td>\n",
       "      <td>0.988517</td>\n",
       "      <td>44.880339</td>\n",
       "      <td>4.698375</td>\n",
       "    </tr>\n",
       "    <tr>\n",
       "      <th>min</th>\n",
       "      <td>4.000000e+04</td>\n",
       "      <td>1.000000</td>\n",
       "      <td>7.000000</td>\n",
       "      <td>0.000000</td>\n",
       "    </tr>\n",
       "    <tr>\n",
       "      <th>25%</th>\n",
       "      <td>1.800000e+05</td>\n",
       "      <td>1.000000</td>\n",
       "      <td>40.400000</td>\n",
       "      <td>3.000000</td>\n",
       "    </tr>\n",
       "    <tr>\n",
       "      <th>50%</th>\n",
       "      <td>2.300000e+05</td>\n",
       "      <td>2.000000</td>\n",
       "      <td>53.000000</td>\n",
       "      <td>5.000000</td>\n",
       "    </tr>\n",
       "    <tr>\n",
       "      <th>75%</th>\n",
       "      <td>3.300000e+05</td>\n",
       "      <td>2.000000</td>\n",
       "      <td>75.000000</td>\n",
       "      <td>9.000000</td>\n",
       "    </tr>\n",
       "    <tr>\n",
       "      <th>max</th>\n",
       "      <td>6.000000e+06</td>\n",
       "      <td>9.000000</td>\n",
       "      <td>580.000000</td>\n",
       "      <td>41.000000</td>\n",
       "    </tr>\n",
       "  </tbody>\n",
       "</table>\n",
       "</div>"
      ],
      "text/plain": [
       "              price  number_of_rooms         area        floor\n",
       "count  8.424000e+03      8424.000000  8424.000000  8424.000000\n",
       "mean   3.416339e+05         1.944088    67.778812     6.445988\n",
       "std    3.615316e+05         0.988517    44.880339     4.698375\n",
       "min    4.000000e+04         1.000000     7.000000     0.000000\n",
       "25%    1.800000e+05         1.000000    40.400000     3.000000\n",
       "50%    2.300000e+05         2.000000    53.000000     5.000000\n",
       "75%    3.300000e+05         2.000000    75.000000     9.000000\n",
       "max    6.000000e+06         9.000000   580.000000    41.000000"
      ]
     },
     "metadata": {},
     "output_type": "display_data"
    }
   ],
   "source": [
    "df.describe()"
   ]
  },
  {
   "cell_type": "code",
   "execution_count": null,
   "metadata": {},
   "outputs": [
    {
     "data": {
      "image/png": "[encoded data removed]",
      "text/plain": [
       "<Figure size 640x480 with 1 Axes>"
      ]
     },
     "metadata": {},
     "output_type": "display_data"
    },
    {
     "data": {
      "image/png": "[encoded data removed]",
      "text/plain": [
       "<Figure size 640x480 with 1 Axes>"
      ]
     },
     "metadata": {},
     "output_type": "display_data"
    },
    {
     "data": {
      "image/png": "[encoded data removed]",
      "text/plain": [
       "<Figure size 640x480 with 1 Axes>"
      ]
     },
     "metadata": {},
     "output_type": "display_data"
    },
    {
     "data": {
      "image/png": "[encoded data removed]",
      "text/plain": [
       "<Figure size 640x480 with 1 Axes>"
      ]
     },
     "metadata": {},
     "output_type": "display_data"
    }
   ],
   "source": [
    "import matplotlib.pyplot as plt\n",
    "\n",
    "columns = [\"price\", \"number_of_rooms\", \"area\", \"floor\"]\n",
    "for column in columns:\n",
    "        \n",
    "    plt.hist(df[column])\n",
    "    plt.xlabel(f\"{column}\")\n",
    "    plt.ylabel(\"Frequency\")\n",
    "    plt.title(f\"Distribution of the {column} among apartments\")\n",
    "    plt.show()"
   ]
  },
  {
   "cell_type": "markdown",
   "metadata": {},
   "source": [
    "Object features distribution"
   ]
  },
  {
   "cell_type": "code",
   "execution_count": null,
   "metadata": {},
   "outputs": [
    {
     "data": {
      "text/plain": [
       "district\n",
       "Есильский р-н                                4214\n",
       "Алматы р-н                                   1912\n",
       "Нура р-н                                      913\n",
       "Сарыарка р-н                                  628\n",
       "Unknown District                              376\n",
       "р-н Байконур                                  257\n",
       "Сарайшык р-н                                  116\n",
       "Е54 5 — Туран 65а. Сзади Смолла                 1\n",
       "Туран 44Б — Астана арена                        1\n",
       "Бектурова 4/1 — От 14 дней-210 тыс. Центр       1\n",
       "Азильхан Нуршаихов                              1\n",
       "Лесная Поляна                                   1\n",
       "Мукан Тулебаев 5 — Обаган                       1\n",
       "Сарайшык 34 — Акмешит                           1\n",
       "Ташенова 13/2 — Бараева                         1\n",
       "Name: count, dtype: int64"
      ]
     },
     "metadata": {},
     "output_type": "display_data"
    }
   ],
   "source": [
    "df[\"district\"].value_counts()"
   ]
  },
  {
   "cell_type": "code",
   "execution_count": null,
   "metadata": {},
   "outputs": [
    {
     "data": {
      "text/plain": [
       "address\n",
       "мкр Комсомольский                                                                                                                     128\n",
       "мкр Пригородный                                                                                                                        35\n",
       "Байтурсынова 9                                                                                                                         34\n",
       "Улы Дала 33/1                                                                                                                          31\n",
       "Калдаякова 3                                                                                                                           31\n",
       "                                                                                                                                     ... \n",
       "Аль-Фараби 27/1 — Кекильбаева                                                                                                           1\n",
       "Кошкарбаева 2 — Блок С 4                                                                                                                1\n",
       "Кабанбай батыра 59 — Хусейн Бенталал                                                                                                    1\n",
       "Бухар жырау 20Б — Кабанбай батыр                                                                                                        1\n",
       "Бектурова 11 — ЖК -ТУРАН ЛАЙФ- Сыганак- АлтынШар- Туран- ХанШатыр- Бином- КардиОнкоНейро Центры- Магнум- Анвар- Респ.ДиагностЦентр      1\n",
       "Name: count, Length: 5038, dtype: int64"
      ]
     },
     "metadata": {},
     "output_type": "display_data"
    }
   ],
   "source": [
    "df[\"address\"].value_counts()"
   ]
  },
  {
   "cell_type": "code",
   "execution_count": null,
   "metadata": {},
   "outputs": [],
   "source": [
    "valid_districts = [\"Есильский р-н\", \"Алматы р-н\", \"Нура р-н\", \"Сарыарка р-н\", \"р-н Байконур\", \"Сарайшык р-н\"]\n",
    "\n",
    "df = df[df[\"district\"].isin(valid_districts)]\n"
   ]
  },
  {
   "cell_type": "markdown",
   "metadata": {},
   "source": [
    "Deleting rows from above range"
   ]
  },
  {
   "cell_type": "code",
   "execution_count": null,
   "metadata": {},
   "outputs": [
    {
     "data": {
      "text/html": [
       "<div>\n",
       "<style scoped>\n",
       "    .dataframe tbody tr th:only-of-type {\n",
       "        vertical-align: middle;\n",
       "    }\n",
       "\n",
       "    .dataframe tbody tr th {\n",
       "        vertical-align: top;\n",
       "    }\n",
       "\n",
       "    .dataframe thead th {\n",
       "        text-align: right;\n",
       "    }\n",
       "</style>\n",
       "<table border=\"1\" class=\"dataframe\">\n",
       "  <thead>\n",
       "    <tr style=\"text-align: right;\">\n",
       "      <th></th>\n",
       "      <th>price</th>\n",
       "      <th>link</th>\n",
       "      <th>number_of_rooms</th>\n",
       "      <th>area</th>\n",
       "      <th>floor</th>\n",
       "      <th>district</th>\n",
       "      <th>address</th>\n",
       "    </tr>\n",
       "  </thead>\n",
       "  <tbody>\n",
       "    <tr>\n",
       "      <th>5332</th>\n",
       "      <td>1500000</td>\n",
       "      <td>https://krisha.kz/a/show/699839923</td>\n",
       "      <td>5</td>\n",
       "      <td>500.0</td>\n",
       "      <td>8</td>\n",
       "      <td>Есильский р-н</td>\n",
       "      <td>Сыганак 39/1</td>\n",
       "    </tr>\n",
       "    <tr>\n",
       "      <th>6810</th>\n",
       "      <td>1500000</td>\n",
       "      <td>https://krisha.kz/a/show/694929176</td>\n",
       "      <td>3</td>\n",
       "      <td>130.0</td>\n",
       "      <td>7</td>\n",
       "      <td>Есильский р-н</td>\n",
       "      <td>Гейдар Алиева 2</td>\n",
       "    </tr>\n",
       "    <tr>\n",
       "      <th>7501</th>\n",
       "      <td>1500000</td>\n",
       "      <td>https://krisha.kz/a/show/699864678</td>\n",
       "      <td>4</td>\n",
       "      <td>230.0</td>\n",
       "      <td>15</td>\n",
       "      <td>Алматы р-н</td>\n",
       "      <td>Байтурсынова 5</td>\n",
       "    </tr>\n",
       "    <tr>\n",
       "      <th>4178</th>\n",
       "      <td>1500000</td>\n",
       "      <td>https://krisha.kz/a/show/662126863</td>\n",
       "      <td>5</td>\n",
       "      <td>203.0</td>\n",
       "      <td>29</td>\n",
       "      <td>Алматы р-н</td>\n",
       "      <td>Ахмета Байтурсынова 9 — проспект Тауелсиздик</td>\n",
       "    </tr>\n",
       "    <tr>\n",
       "      <th>2302</th>\n",
       "      <td>1500000</td>\n",
       "      <td>https://krisha.kz/a/show/691235683</td>\n",
       "      <td>4</td>\n",
       "      <td>160.0</td>\n",
       "      <td>4</td>\n",
       "      <td>Есильский р-н</td>\n",
       "      <td>Кайым Мухамедханов 1/2</td>\n",
       "    </tr>\n",
       "    <tr>\n",
       "      <th>...</th>\n",
       "      <td>...</td>\n",
       "      <td>...</td>\n",
       "      <td>...</td>\n",
       "      <td>...</td>\n",
       "      <td>...</td>\n",
       "      <td>...</td>\n",
       "      <td>...</td>\n",
       "    </tr>\n",
       "    <tr>\n",
       "      <th>5546</th>\n",
       "      <td>50000</td>\n",
       "      <td>https://krisha.kz/a/show/762311780</td>\n",
       "      <td>3</td>\n",
       "      <td>136.0</td>\n",
       "      <td>1</td>\n",
       "      <td>р-н Байконур</td>\n",
       "      <td>Иманбаева 1</td>\n",
       "    </tr>\n",
       "    <tr>\n",
       "      <th>3463</th>\n",
       "      <td>50000</td>\n",
       "      <td>https://krisha.kz/a/show/48151536</td>\n",
       "      <td>1</td>\n",
       "      <td>18.2</td>\n",
       "      <td>0</td>\n",
       "      <td>Сарыарка р-н</td>\n",
       "      <td>Аулие ата 66</td>\n",
       "    </tr>\n",
       "    <tr>\n",
       "      <th>6951</th>\n",
       "      <td>45000</td>\n",
       "      <td>https://krisha.kz/a/show/761250115</td>\n",
       "      <td>1</td>\n",
       "      <td>15.0</td>\n",
       "      <td>1</td>\n",
       "      <td>Сарыарка р-н</td>\n",
       "      <td>Атбасар</td>\n",
       "    </tr>\n",
       "    <tr>\n",
       "      <th>3392</th>\n",
       "      <td>45000</td>\n",
       "      <td>https://krisha.kz/a/show/686128642</td>\n",
       "      <td>1</td>\n",
       "      <td>18.0</td>\n",
       "      <td>2</td>\n",
       "      <td>Сарыарка р-н</td>\n",
       "      <td>Ушкара</td>\n",
       "    </tr>\n",
       "    <tr>\n",
       "      <th>7952</th>\n",
       "      <td>40000</td>\n",
       "      <td>https://krisha.kz/a/show/670673880</td>\n",
       "      <td>1</td>\n",
       "      <td>17.0</td>\n",
       "      <td>2</td>\n",
       "      <td>Алматы р-н</td>\n",
       "      <td>Жамбыла Жабаева 32/а</td>\n",
       "    </tr>\n",
       "  </tbody>\n",
       "</table>\n",
       "<p>7938 rows × 7 columns</p>\n",
       "</div>"
      ],
      "text/plain": [
       "        price                                link  number_of_rooms   area  \\\n",
       "5332  1500000  https://krisha.kz/a/show/699839923                5  500.0   \n",
       "6810  1500000  https://krisha.kz/a/show/694929176                3  130.0   \n",
       "7501  1500000  https://krisha.kz/a/show/699864678                4  230.0   \n",
       "4178  1500000  https://krisha.kz/a/show/662126863                5  203.0   \n",
       "2302  1500000  https://krisha.kz/a/show/691235683                4  160.0   \n",
       "...       ...                                 ...              ...    ...   \n",
       "5546    50000  https://krisha.kz/a/show/762311780                3  136.0   \n",
       "3463    50000   https://krisha.kz/a/show/48151536                1   18.2   \n",
       "6951    45000  https://krisha.kz/a/show/761250115                1   15.0   \n",
       "3392    45000  https://krisha.kz/a/show/686128642                1   18.0   \n",
       "7952    40000  https://krisha.kz/a/show/670673880                1   17.0   \n",
       "\n",
       "      floor       district                                        address  \n",
       "5332      8  Есильский р-н                                   Сыганак 39/1  \n",
       "6810      7  Есильский р-н                                Гейдар Алиева 2  \n",
       "7501     15     Алматы р-н                                 Байтурсынова 5  \n",
       "4178     29     Алматы р-н   Ахмета Байтурсынова 9 — проспект Тауелсиздик  \n",
       "2302      4  Есильский р-н                         Кайым Мухамедханов 1/2  \n",
       "...     ...            ...                                            ...  \n",
       "5546      1   р-н Байконур                                    Иманбаева 1  \n",
       "3463      0   Сарыарка р-н                                   Аулие ата 66  \n",
       "6951      1   Сарыарка р-н                                        Атбасар  \n",
       "3392      2   Сарыарка р-н                                         Ушкара  \n",
       "7952      2     Алматы р-н                           Жамбыла Жабаева 32/а  \n",
       "\n",
       "[7938 rows x 7 columns]"
      ]
     },
     "metadata": {},
     "output_type": "display_data"
    }
   ],
   "source": [
    "treshold = df[\"price\"].quantile(0.98)\n",
    "filtered_df = df[df[\"price\"] <= treshold]\n",
    "sorted_df = filtered_df.sort_values(by=\"price\", ascending=False)\n",
    "sorted_df\n"
   ]
  },
  {
   "cell_type": "code",
   "execution_count": null,
   "metadata": {},
   "outputs": [],
   "source": [
    "sorted_df.to_csv(\"astana_rent_for_visual.csv\", index=False)"
   ]
  },
  {
   "cell_type": "markdown",
   "metadata": {},
   "source": []
  }
 ],
 "metadata": {
  "kernelspec": {
   "display_name": "Python 3",
   "language": "python",
   "name": "python3"
  },
  "language_info": {
   "codemirror_mode": {
    "name": "ipython",
    "version": 3
   },
   "file_extension": ".py",
   "mimetype": "text/x-python",
   "name": "python",
   "nbconvert_exporter": "python",
   "pygments_lexer": "ipython3",
   "version": "3.12.6"
  }
 },
 "nbformat": 4,
 "nbformat_minor": 2
}
