{
 "cells": [
  {
   "cell_type": "markdown",
   "metadata": {},
   "source": [
    "### Data Preparation Pipeline"
   ]
  },
  {
   "cell_type": "markdown",
   "metadata": {},
   "source": [
    "Loading dataset"
   ]
  },
  {
   "cell_type": "code",
   "execution_count": 193,
   "metadata": {},
   "outputs": [
    {
     "data": {
      "text/html": [
       "<div>\n",
       "<style scoped>\n",
       "    .dataframe tbody tr th:only-of-type {\n",
       "        vertical-align: middle;\n",
       "    }\n",
       "\n",
       "    .dataframe tbody tr th {\n",
       "        vertical-align: top;\n",
       "    }\n",
       "\n",
       "    .dataframe thead th {\n",
       "        text-align: right;\n",
       "    }\n",
       "</style>\n",
       "<table border=\"1\" class=\"dataframe\">\n",
       "  <thead>\n",
       "    <tr style=\"text-align: right;\">\n",
       "      <th></th>\n",
       "      <th>Unnamed: 0</th>\n",
       "      <th>Title</th>\n",
       "      <th>Price</th>\n",
       "      <th>Location</th>\n",
       "      <th>Link</th>\n",
       "    </tr>\n",
       "  </thead>\n",
       "  <tbody>\n",
       "    <tr>\n",
       "      <th>0</th>\n",
       "      <td>0</td>\n",
       "      <td>2-комнатная квартира · 48.1 м² · 10/10 этаж</td>\n",
       "      <td>26 400 000〒</td>\n",
       "      <td>Нура р-н, Айтматова — Мухамедханова</td>\n",
       "      <td>https://krisha.kz/a/show/760514087</td>\n",
       "    </tr>\n",
       "    <tr>\n",
       "      <th>1</th>\n",
       "      <td>1</td>\n",
       "      <td>3-комнатная квартира · 70 м² · 2/6 этаж</td>\n",
       "      <td>31 000 000〒</td>\n",
       "      <td>Алматы р-н, Кажымукана 16</td>\n",
       "      <td>https://krisha.kz/a/show/699137309</td>\n",
       "    </tr>\n",
       "    <tr>\n",
       "      <th>2</th>\n",
       "      <td>2</td>\n",
       "      <td>1-комнатная квартира · 40.4 м² · 8/9 этаж</td>\n",
       "      <td>17 800 000〒</td>\n",
       "      <td>Есильский р-н, Туран 89/3</td>\n",
       "      <td>https://krisha.kz/a/show/697594913</td>\n",
       "    </tr>\n",
       "    <tr>\n",
       "      <th>3</th>\n",
       "      <td>3</td>\n",
       "      <td>2-комнатная квартира · 75 м² · 4 этаж</td>\n",
       "      <td>51 000 000〒</td>\n",
       "      <td>Есильский р-н, Кабанбай батыра — Рыскулова</td>\n",
       "      <td>https://krisha.kz/a/show/1000167913</td>\n",
       "    </tr>\n",
       "    <tr>\n",
       "      <th>4</th>\n",
       "      <td>4</td>\n",
       "      <td>1-комнатная квартира · 45 м² · 9/9 этаж</td>\n",
       "      <td>25 000 000〒</td>\n",
       "      <td>Есильский р-н, Мангилик Ел 19/2</td>\n",
       "      <td>https://krisha.kz/a/show/699116404</td>\n",
       "    </tr>\n",
       "    <tr>\n",
       "      <th>...</th>\n",
       "      <td>...</td>\n",
       "      <td>...</td>\n",
       "      <td>...</td>\n",
       "      <td>...</td>\n",
       "      <td>...</td>\n",
       "    </tr>\n",
       "    <tr>\n",
       "      <th>19998</th>\n",
       "      <td>19998</td>\n",
       "      <td>4-комнатная квартира · 167.9 м² · 10/10 этаж</td>\n",
       "      <td>90 000 000〒</td>\n",
       "      <td>Алматы р-н, ул. Ахмет Байтурсынова</td>\n",
       "      <td>https://krisha.kz/a/show/52422256</td>\n",
       "    </tr>\n",
       "    <tr>\n",
       "      <th>19999</th>\n",
       "      <td>19999</td>\n",
       "      <td>3-комнатная квартира · 66.5 м² · 5/5 этаж</td>\n",
       "      <td>30 000 000〒</td>\n",
       "      <td>Алматы р-н, сатпаева 13/3</td>\n",
       "      <td>https://krisha.kz/a/show/761797657</td>\n",
       "    </tr>\n",
       "    <tr>\n",
       "      <th>20000</th>\n",
       "      <td>20000</td>\n",
       "      <td>3-комнатная квартира · 72 м² · 12/13 этаж</td>\n",
       "      <td>53 000 000〒</td>\n",
       "      <td>Нура р-н, сыганак 24</td>\n",
       "      <td>https://krisha.kz/a/show/761587982</td>\n",
       "    </tr>\n",
       "    <tr>\n",
       "      <th>20001</th>\n",
       "      <td>20001</td>\n",
       "      <td>1-комнатная квартира · 30 м² · 1/6 этаж</td>\n",
       "      <td>14 500 000〒</td>\n",
       "      <td>Есильский р-н, Кабанбай батыра 107</td>\n",
       "      <td>https://krisha.kz/a/show/692094979</td>\n",
       "    </tr>\n",
       "    <tr>\n",
       "      <th>20002</th>\n",
       "      <td>20002</td>\n",
       "      <td>1-комнатная квартира · 41 м² · 3/15 этаж</td>\n",
       "      <td>22 400 000〒</td>\n",
       "      <td>Сарайшык р-н, Кошкарбаева 32/1</td>\n",
       "      <td>https://krisha.kz/a/show/1000143883</td>\n",
       "    </tr>\n",
       "  </tbody>\n",
       "</table>\n",
       "<p>20003 rows × 5 columns</p>\n",
       "</div>"
      ],
      "text/plain": [
       "       Unnamed: 0                                         Title        Price  \\\n",
       "0               0   2-комнатная квартира · 48.1 м² · 10/10 этаж  26 400 000〒   \n",
       "1               1       3-комнатная квартира · 70 м² · 2/6 этаж  31 000 000〒   \n",
       "2               2     1-комнатная квартира · 40.4 м² · 8/9 этаж  17 800 000〒   \n",
       "3               3         2-комнатная квартира · 75 м² · 4 этаж  51 000 000〒   \n",
       "4               4       1-комнатная квартира · 45 м² · 9/9 этаж  25 000 000〒   \n",
       "...           ...                                           ...          ...   \n",
       "19998       19998  4-комнатная квартира · 167.9 м² · 10/10 этаж  90 000 000〒   \n",
       "19999       19999     3-комнатная квартира · 66.5 м² · 5/5 этаж  30 000 000〒   \n",
       "20000       20000     3-комнатная квартира · 72 м² · 12/13 этаж  53 000 000〒   \n",
       "20001       20001       1-комнатная квартира · 30 м² · 1/6 этаж  14 500 000〒   \n",
       "20002       20002      1-комнатная квартира · 41 м² · 3/15 этаж  22 400 000〒   \n",
       "\n",
       "                                         Location  \\\n",
       "0             Нура р-н, Айтматова — Мухамедханова   \n",
       "1                       Алматы р-н, Кажымукана 16   \n",
       "2                       Есильский р-н, Туран 89/3   \n",
       "3      Есильский р-н, Кабанбай батыра — Рыскулова   \n",
       "4                 Есильский р-н, Мангилик Ел 19/2   \n",
       "...                                           ...   \n",
       "19998          Алматы р-н, ул. Ахмет Байтурсынова   \n",
       "19999                   Алматы р-н, сатпаева 13/3   \n",
       "20000                        Нура р-н, сыганак 24   \n",
       "20001          Есильский р-н, Кабанбай батыра 107   \n",
       "20002              Сарайшык р-н, Кошкарбаева 32/1   \n",
       "\n",
       "                                      Link  \n",
       "0       https://krisha.kz/a/show/760514087  \n",
       "1       https://krisha.kz/a/show/699137309  \n",
       "2       https://krisha.kz/a/show/697594913  \n",
       "3      https://krisha.kz/a/show/1000167913  \n",
       "4       https://krisha.kz/a/show/699116404  \n",
       "...                                    ...  \n",
       "19998    https://krisha.kz/a/show/52422256  \n",
       "19999   https://krisha.kz/a/show/761797657  \n",
       "20000   https://krisha.kz/a/show/761587982  \n",
       "20001   https://krisha.kz/a/show/692094979  \n",
       "20002  https://krisha.kz/a/show/1000143883  \n",
       "\n",
       "[20003 rows x 5 columns]"
      ]
     },
     "execution_count": 193,
     "metadata": {},
     "output_type": "execute_result"
    }
   ],
   "source": [
    "import pandas as pd\n",
    "\n",
    "df = pd.read_csv(\"/Users/altemir_1/Desktop/Housing-Analysis/data/raw/astana_sale_raw_march_2025.csv\")\n",
    "\n",
    "df"
   ]
  },
  {
   "cell_type": "code",
   "execution_count": 194,
   "metadata": {},
   "outputs": [
    {
     "data": {
      "text/html": [
       "<div>\n",
       "<style scoped>\n",
       "    .dataframe tbody tr th:only-of-type {\n",
       "        vertical-align: middle;\n",
       "    }\n",
       "\n",
       "    .dataframe tbody tr th {\n",
       "        vertical-align: top;\n",
       "    }\n",
       "\n",
       "    .dataframe thead th {\n",
       "        text-align: right;\n",
       "    }\n",
       "</style>\n",
       "<table border=\"1\" class=\"dataframe\">\n",
       "  <thead>\n",
       "    <tr style=\"text-align: right;\">\n",
       "      <th></th>\n",
       "      <th>Title</th>\n",
       "      <th>Price</th>\n",
       "      <th>Location</th>\n",
       "      <th>Link</th>\n",
       "    </tr>\n",
       "  </thead>\n",
       "  <tbody>\n",
       "    <tr>\n",
       "      <th>0</th>\n",
       "      <td>2-комнатная квартира · 48.1 м² · 10/10 этаж</td>\n",
       "      <td>26 400 000〒</td>\n",
       "      <td>Нура р-н, Айтматова — Мухамедханова</td>\n",
       "      <td>https://krisha.kz/a/show/760514087</td>\n",
       "    </tr>\n",
       "    <tr>\n",
       "      <th>1</th>\n",
       "      <td>3-комнатная квартира · 70 м² · 2/6 этаж</td>\n",
       "      <td>31 000 000〒</td>\n",
       "      <td>Алматы р-н, Кажымукана 16</td>\n",
       "      <td>https://krisha.kz/a/show/699137309</td>\n",
       "    </tr>\n",
       "    <tr>\n",
       "      <th>2</th>\n",
       "      <td>1-комнатная квартира · 40.4 м² · 8/9 этаж</td>\n",
       "      <td>17 800 000〒</td>\n",
       "      <td>Есильский р-н, Туран 89/3</td>\n",
       "      <td>https://krisha.kz/a/show/697594913</td>\n",
       "    </tr>\n",
       "    <tr>\n",
       "      <th>3</th>\n",
       "      <td>2-комнатная квартира · 75 м² · 4 этаж</td>\n",
       "      <td>51 000 000〒</td>\n",
       "      <td>Есильский р-н, Кабанбай батыра — Рыскулова</td>\n",
       "      <td>https://krisha.kz/a/show/1000167913</td>\n",
       "    </tr>\n",
       "    <tr>\n",
       "      <th>4</th>\n",
       "      <td>1-комнатная квартира · 45 м² · 9/9 этаж</td>\n",
       "      <td>25 000 000〒</td>\n",
       "      <td>Есильский р-н, Мангилик Ел 19/2</td>\n",
       "      <td>https://krisha.kz/a/show/699116404</td>\n",
       "    </tr>\n",
       "    <tr>\n",
       "      <th>...</th>\n",
       "      <td>...</td>\n",
       "      <td>...</td>\n",
       "      <td>...</td>\n",
       "      <td>...</td>\n",
       "    </tr>\n",
       "    <tr>\n",
       "      <th>19998</th>\n",
       "      <td>4-комнатная квартира · 167.9 м² · 10/10 этаж</td>\n",
       "      <td>90 000 000〒</td>\n",
       "      <td>Алматы р-н, ул. Ахмет Байтурсынова</td>\n",
       "      <td>https://krisha.kz/a/show/52422256</td>\n",
       "    </tr>\n",
       "    <tr>\n",
       "      <th>19999</th>\n",
       "      <td>3-комнатная квартира · 66.5 м² · 5/5 этаж</td>\n",
       "      <td>30 000 000〒</td>\n",
       "      <td>Алматы р-н, сатпаева 13/3</td>\n",
       "      <td>https://krisha.kz/a/show/761797657</td>\n",
       "    </tr>\n",
       "    <tr>\n",
       "      <th>20000</th>\n",
       "      <td>3-комнатная квартира · 72 м² · 12/13 этаж</td>\n",
       "      <td>53 000 000〒</td>\n",
       "      <td>Нура р-н, сыганак 24</td>\n",
       "      <td>https://krisha.kz/a/show/761587982</td>\n",
       "    </tr>\n",
       "    <tr>\n",
       "      <th>20001</th>\n",
       "      <td>1-комнатная квартира · 30 м² · 1/6 этаж</td>\n",
       "      <td>14 500 000〒</td>\n",
       "      <td>Есильский р-н, Кабанбай батыра 107</td>\n",
       "      <td>https://krisha.kz/a/show/692094979</td>\n",
       "    </tr>\n",
       "    <tr>\n",
       "      <th>20002</th>\n",
       "      <td>1-комнатная квартира · 41 м² · 3/15 этаж</td>\n",
       "      <td>22 400 000〒</td>\n",
       "      <td>Сарайшык р-н, Кошкарбаева 32/1</td>\n",
       "      <td>https://krisha.kz/a/show/1000143883</td>\n",
       "    </tr>\n",
       "  </tbody>\n",
       "</table>\n",
       "<p>20003 rows × 4 columns</p>\n",
       "</div>"
      ],
      "text/plain": [
       "                                              Title        Price  \\\n",
       "0       2-комнатная квартира · 48.1 м² · 10/10 этаж  26 400 000〒   \n",
       "1           3-комнатная квартира · 70 м² · 2/6 этаж  31 000 000〒   \n",
       "2         1-комнатная квартира · 40.4 м² · 8/9 этаж  17 800 000〒   \n",
       "3             2-комнатная квартира · 75 м² · 4 этаж  51 000 000〒   \n",
       "4           1-комнатная квартира · 45 м² · 9/9 этаж  25 000 000〒   \n",
       "...                                             ...          ...   \n",
       "19998  4-комнатная квартира · 167.9 м² · 10/10 этаж  90 000 000〒   \n",
       "19999     3-комнатная квартира · 66.5 м² · 5/5 этаж  30 000 000〒   \n",
       "20000     3-комнатная квартира · 72 м² · 12/13 этаж  53 000 000〒   \n",
       "20001       1-комнатная квартира · 30 м² · 1/6 этаж  14 500 000〒   \n",
       "20002      1-комнатная квартира · 41 м² · 3/15 этаж  22 400 000〒   \n",
       "\n",
       "                                         Location  \\\n",
       "0             Нура р-н, Айтматова — Мухамедханова   \n",
       "1                       Алматы р-н, Кажымукана 16   \n",
       "2                       Есильский р-н, Туран 89/3   \n",
       "3      Есильский р-н, Кабанбай батыра — Рыскулова   \n",
       "4                 Есильский р-н, Мангилик Ел 19/2   \n",
       "...                                           ...   \n",
       "19998          Алматы р-н, ул. Ахмет Байтурсынова   \n",
       "19999                   Алматы р-н, сатпаева 13/3   \n",
       "20000                        Нура р-н, сыганак 24   \n",
       "20001          Есильский р-н, Кабанбай батыра 107   \n",
       "20002              Сарайшык р-н, Кошкарбаева 32/1   \n",
       "\n",
       "                                      Link  \n",
       "0       https://krisha.kz/a/show/760514087  \n",
       "1       https://krisha.kz/a/show/699137309  \n",
       "2       https://krisha.kz/a/show/697594913  \n",
       "3      https://krisha.kz/a/show/1000167913  \n",
       "4       https://krisha.kz/a/show/699116404  \n",
       "...                                    ...  \n",
       "19998    https://krisha.kz/a/show/52422256  \n",
       "19999   https://krisha.kz/a/show/761797657  \n",
       "20000   https://krisha.kz/a/show/761587982  \n",
       "20001   https://krisha.kz/a/show/692094979  \n",
       "20002  https://krisha.kz/a/show/1000143883  \n",
       "\n",
       "[20003 rows x 4 columns]"
      ]
     },
     "execution_count": 194,
     "metadata": {},
     "output_type": "execute_result"
    }
   ],
   "source": [
    "df.drop(\"Unnamed: 0\", axis=1, inplace=True)\n",
    "df "
   ]
  },
  {
   "cell_type": "markdown",
   "metadata": {},
   "source": [
    "Splitting title into rooms, area and floor information"
   ]
  },
  {
   "cell_type": "code",
   "execution_count": 195,
   "metadata": {},
   "outputs": [],
   "source": [
    "split_df = df[\"Title\"].str.split(\"·\", expand=True)\n",
    "\n",
    "df[\"number_of_rooms\"] = split_df[0]\n",
    "df[\"area\"] = split_df[1]\n",
    "df[\"floor\"] = split_df[2]\n",
    "\n",
    "df.drop(\"Title\", axis=1, inplace=True)"
   ]
  },
  {
   "cell_type": "markdown",
   "metadata": {},
   "source": [
    "Price"
   ]
  },
  {
   "cell_type": "code",
   "execution_count": 196,
   "metadata": {},
   "outputs": [],
   "source": [
    "df[\"Price\"] = df[\"Price\"].str.replace(\"〒\", \"\", regex=False)\n",
    "df[\"Price\"] = df[\"Price\"].str.replace(\"\\xa0\", \"\")\n",
    "df[\"Price\"] = df[\"Price\"].str.replace(\"от\", \"\")\n",
    "df[\"Price\"] = df[\"Price\"].astype(int)"
   ]
  },
  {
   "cell_type": "markdown",
   "metadata": {},
   "source": [
    "Area"
   ]
  },
  {
   "cell_type": "code",
   "execution_count": 197,
   "metadata": {},
   "outputs": [],
   "source": [
    "df[\"area\"] = df[\"area\"].str.replace(\"м²\", \"\")\n",
    "df[\"area\"] = df[\"area\"].astype(float)"
   ]
  },
  {
   "cell_type": "markdown",
   "metadata": {},
   "source": [
    "Number of Rooms"
   ]
  },
  {
   "cell_type": "code",
   "execution_count": 198,
   "metadata": {},
   "outputs": [],
   "source": [
    "df[\"number_of_rooms\"] = df[\"number_of_rooms\"].str.replace(\"-комнатная квартира\", \"\")\n",
    "df[\"number_of_rooms\"] = df[\"number_of_rooms\"].astype(int)"
   ]
  },
  {
   "cell_type": "markdown",
   "metadata": {},
   "source": [
    "Floor"
   ]
  },
  {
   "cell_type": "code",
   "execution_count": 199,
   "metadata": {},
   "outputs": [],
   "source": [
    "split_floor_df = df[\"floor\"].str.split(\"/\", expand=True)\n",
    "df[\"floor\"] = split_floor_df[0]\n"
   ]
  },
  {
   "cell_type": "code",
   "execution_count": 204,
   "metadata": {},
   "outputs": [
    {
     "data": {
      "text/plain": [
       "np.int64(1212)"
      ]
     },
     "execution_count": 204,
     "metadata": {},
     "output_type": "execute_result"
    }
   ],
   "source": []
  },
  {
   "cell_type": "code",
   "execution_count": 205,
   "metadata": {},
   "outputs": [
    {
     "name": "stderr",
     "output_type": "stream",
     "text": [
      "/var/folders/vx/qnjn5crx6n17qty1n6m8kf4w0000gn/T/ipykernel_45753/1383255438.py:4: FutureWarning: A value is trying to be set on a copy of a DataFrame or Series through chained assignment using an inplace method.\n",
      "The behavior will change in pandas 3.0. This inplace method will never work because the intermediate object on which we are setting values always behaves as a copy.\n",
      "\n",
      "For example, when doing 'df[col].method(value, inplace=True)', try using 'df.method({col: value}, inplace=True)' or df[col] = df[col].method(value) instead, to perform the operation inplace on the original object.\n",
      "\n",
      "\n",
      "  df.floor.fillna(df.floor.mode()[0], inplace=True)\n"
     ]
    }
   ],
   "source": [
    "df.floor = df[\"floor\"].str.replace(\" \", \"\")\n",
    "df.floor = df[\"floor\"].str.replace(\"\\xa0\", \"\").str.replace(\"этаж\",\"\")\n",
    "df.floor = df[\"floor\"].str.replace(\"помесячно\", \"0\")\n",
    "df.floor.fillna(df.floor.mode()[0], inplace=True)"
   ]
  },
  {
   "cell_type": "code",
   "execution_count": 206,
   "metadata": {},
   "outputs": [
    {
     "data": {
      "text/plain": [
       "np.int64(0)"
      ]
     },
     "execution_count": 206,
     "metadata": {},
     "output_type": "execute_result"
    }
   ],
   "source": [
    "df.floor.isnull().sum()"
   ]
  },
  {
   "cell_type": "code",
   "execution_count": 207,
   "metadata": {},
   "outputs": [],
   "source": [
    "df.floor = df.floor.astype(int)"
   ]
  },
  {
   "cell_type": "markdown",
   "metadata": {},
   "source": [
    "District and Address"
   ]
  },
  {
   "cell_type": "code",
   "execution_count": 208,
   "metadata": {},
   "outputs": [],
   "source": [
    "split_location_df = df[\"Location\"].str.split(\",\", expand=True)\n",
    "df[\"district\"] = split_location_df[0]\n",
    "df[\"adress\"] = split_location_df[1]"
   ]
  },
  {
   "cell_type": "code",
   "execution_count": 212,
   "metadata": {},
   "outputs": [],
   "source": [
    "# Define your valid districts list\n",
    "valid_districts = [\n",
    "    \"Есильский р-н\", \"Сарыарка р-н\", \"Алматы р-н\", \"Нура р-н\", \"р-н Байконур\", \"Сарайшык р-н\"\n",
    "]\n",
    "\n",
    "# Function to fix district and address columns\n",
    "def fix_district_and_address(row):\n",
    "    if row['district'] not in valid_districts and pd.isna(row['adress']):\n",
    "        # Move the 'district' value to 'adress'\n",
    "        row['adress'] = row['district']\n",
    "        # Replace 'district' value with 'Unknown District'\n",
    "        row['district'] = \"Unknown District\"\n",
    "    return row\n",
    "\n",
    "# Apply the function to every row in the DataFrame\n",
    "df = df.apply(fix_district_and_address, axis=1)"
   ]
  },
  {
   "cell_type": "code",
   "execution_count": 216,
   "metadata": {},
   "outputs": [],
   "source": [
    "df.adress.fillna(\"unknown\", inplace=True)"
   ]
  },
  {
   "cell_type": "markdown",
   "metadata": {},
   "source": [
    "Checking for null values"
   ]
  },
  {
   "cell_type": "code",
   "execution_count": 217,
   "metadata": {},
   "outputs": [
    {
     "data": {
      "text/plain": [
       "Price              0\n",
       "Location           0\n",
       "Link               0\n",
       "number_of_rooms    0\n",
       "area               0\n",
       "floor              0\n",
       "district           0\n",
       "adress             0\n",
       "dtype: int64"
      ]
     },
     "execution_count": 217,
     "metadata": {},
     "output_type": "execute_result"
    }
   ],
   "source": [
    "df.isnull().sum()"
   ]
  },
  {
   "cell_type": "markdown",
   "metadata": {},
   "source": [
    "Deleteing unnecessary columns and renaming for convention"
   ]
  },
  {
   "cell_type": "code",
   "execution_count": 218,
   "metadata": {},
   "outputs": [
    {
     "data": {
      "text/html": [
       "<div>\n",
       "<style scoped>\n",
       "    .dataframe tbody tr th:only-of-type {\n",
       "        vertical-align: middle;\n",
       "    }\n",
       "\n",
       "    .dataframe tbody tr th {\n",
       "        vertical-align: top;\n",
       "    }\n",
       "\n",
       "    .dataframe thead th {\n",
       "        text-align: right;\n",
       "    }\n",
       "</style>\n",
       "<table border=\"1\" class=\"dataframe\">\n",
       "  <thead>\n",
       "    <tr style=\"text-align: right;\">\n",
       "      <th></th>\n",
       "      <th>price</th>\n",
       "      <th>link</th>\n",
       "      <th>number_of_rooms</th>\n",
       "      <th>area</th>\n",
       "      <th>floor</th>\n",
       "      <th>district</th>\n",
       "      <th>address</th>\n",
       "    </tr>\n",
       "  </thead>\n",
       "  <tbody>\n",
       "    <tr>\n",
       "      <th>0</th>\n",
       "      <td>26400000</td>\n",
       "      <td>https://krisha.kz/a/show/760514087</td>\n",
       "      <td>2</td>\n",
       "      <td>48.1</td>\n",
       "      <td>10</td>\n",
       "      <td>Нура р-н</td>\n",
       "      <td>Айтматова — Мухамедханова</td>\n",
       "    </tr>\n",
       "    <tr>\n",
       "      <th>1</th>\n",
       "      <td>31000000</td>\n",
       "      <td>https://krisha.kz/a/show/699137309</td>\n",
       "      <td>3</td>\n",
       "      <td>70.0</td>\n",
       "      <td>2</td>\n",
       "      <td>Алматы р-н</td>\n",
       "      <td>Кажымукана 16</td>\n",
       "    </tr>\n",
       "    <tr>\n",
       "      <th>2</th>\n",
       "      <td>17800000</td>\n",
       "      <td>https://krisha.kz/a/show/697594913</td>\n",
       "      <td>1</td>\n",
       "      <td>40.4</td>\n",
       "      <td>8</td>\n",
       "      <td>Есильский р-н</td>\n",
       "      <td>Туран 89/3</td>\n",
       "    </tr>\n",
       "    <tr>\n",
       "      <th>3</th>\n",
       "      <td>51000000</td>\n",
       "      <td>https://krisha.kz/a/show/1000167913</td>\n",
       "      <td>2</td>\n",
       "      <td>75.0</td>\n",
       "      <td>4</td>\n",
       "      <td>Есильский р-н</td>\n",
       "      <td>Кабанбай батыра — Рыскулова</td>\n",
       "    </tr>\n",
       "    <tr>\n",
       "      <th>4</th>\n",
       "      <td>25000000</td>\n",
       "      <td>https://krisha.kz/a/show/699116404</td>\n",
       "      <td>1</td>\n",
       "      <td>45.0</td>\n",
       "      <td>9</td>\n",
       "      <td>Есильский р-н</td>\n",
       "      <td>Мангилик Ел 19/2</td>\n",
       "    </tr>\n",
       "    <tr>\n",
       "      <th>...</th>\n",
       "      <td>...</td>\n",
       "      <td>...</td>\n",
       "      <td>...</td>\n",
       "      <td>...</td>\n",
       "      <td>...</td>\n",
       "      <td>...</td>\n",
       "      <td>...</td>\n",
       "    </tr>\n",
       "    <tr>\n",
       "      <th>19998</th>\n",
       "      <td>90000000</td>\n",
       "      <td>https://krisha.kz/a/show/52422256</td>\n",
       "      <td>4</td>\n",
       "      <td>167.9</td>\n",
       "      <td>10</td>\n",
       "      <td>Алматы р-н</td>\n",
       "      <td>ул. Ахмет Байтурсынова</td>\n",
       "    </tr>\n",
       "    <tr>\n",
       "      <th>19999</th>\n",
       "      <td>30000000</td>\n",
       "      <td>https://krisha.kz/a/show/761797657</td>\n",
       "      <td>3</td>\n",
       "      <td>66.5</td>\n",
       "      <td>5</td>\n",
       "      <td>Алматы р-н</td>\n",
       "      <td>сатпаева 13/3</td>\n",
       "    </tr>\n",
       "    <tr>\n",
       "      <th>20000</th>\n",
       "      <td>53000000</td>\n",
       "      <td>https://krisha.kz/a/show/761587982</td>\n",
       "      <td>3</td>\n",
       "      <td>72.0</td>\n",
       "      <td>12</td>\n",
       "      <td>Нура р-н</td>\n",
       "      <td>сыганак 24</td>\n",
       "    </tr>\n",
       "    <tr>\n",
       "      <th>20001</th>\n",
       "      <td>14500000</td>\n",
       "      <td>https://krisha.kz/a/show/692094979</td>\n",
       "      <td>1</td>\n",
       "      <td>30.0</td>\n",
       "      <td>1</td>\n",
       "      <td>Есильский р-н</td>\n",
       "      <td>Кабанбай батыра 107</td>\n",
       "    </tr>\n",
       "    <tr>\n",
       "      <th>20002</th>\n",
       "      <td>22400000</td>\n",
       "      <td>https://krisha.kz/a/show/1000143883</td>\n",
       "      <td>1</td>\n",
       "      <td>41.0</td>\n",
       "      <td>3</td>\n",
       "      <td>Сарайшык р-н</td>\n",
       "      <td>Кошкарбаева 32/1</td>\n",
       "    </tr>\n",
       "  </tbody>\n",
       "</table>\n",
       "<p>20003 rows × 7 columns</p>\n",
       "</div>"
      ],
      "text/plain": [
       "          price                                 link  number_of_rooms   area  \\\n",
       "0      26400000   https://krisha.kz/a/show/760514087                2   48.1   \n",
       "1      31000000   https://krisha.kz/a/show/699137309                3   70.0   \n",
       "2      17800000   https://krisha.kz/a/show/697594913                1   40.4   \n",
       "3      51000000  https://krisha.kz/a/show/1000167913                2   75.0   \n",
       "4      25000000   https://krisha.kz/a/show/699116404                1   45.0   \n",
       "...         ...                                  ...              ...    ...   \n",
       "19998  90000000    https://krisha.kz/a/show/52422256                4  167.9   \n",
       "19999  30000000   https://krisha.kz/a/show/761797657                3   66.5   \n",
       "20000  53000000   https://krisha.kz/a/show/761587982                3   72.0   \n",
       "20001  14500000   https://krisha.kz/a/show/692094979                1   30.0   \n",
       "20002  22400000  https://krisha.kz/a/show/1000143883                1   41.0   \n",
       "\n",
       "       floor       district                       address  \n",
       "0         10       Нура р-н     Айтматова — Мухамедханова  \n",
       "1          2     Алматы р-н                 Кажымукана 16  \n",
       "2          8  Есильский р-н                    Туран 89/3  \n",
       "3          4  Есильский р-н   Кабанбай батыра — Рыскулова  \n",
       "4          9  Есильский р-н              Мангилик Ел 19/2  \n",
       "...      ...            ...                           ...  \n",
       "19998     10     Алматы р-н        ул. Ахмет Байтурсынова  \n",
       "19999      5     Алматы р-н                 сатпаева 13/3  \n",
       "20000     12       Нура р-н                    сыганак 24  \n",
       "20001      1  Есильский р-н           Кабанбай батыра 107  \n",
       "20002      3   Сарайшык р-н              Кошкарбаева 32/1  \n",
       "\n",
       "[20003 rows x 7 columns]"
      ]
     },
     "execution_count": 218,
     "metadata": {},
     "output_type": "execute_result"
    }
   ],
   "source": [
    "df.rename(columns={\"Price\": \"price\", \"Link\": \"link\", \"adress\": \"address\"}, inplace=True)\n",
    "df.drop(\"Location\", axis=1, inplace=True)\n",
    "df"
   ]
  },
  {
   "cell_type": "markdown",
   "metadata": {},
   "source": [
    "Saving final variant"
   ]
  },
  {
   "cell_type": "code",
   "execution_count": 219,
   "metadata": {},
   "outputs": [],
   "source": [
    "df.to_csv(\"astan_sale_cleaned_march_2025.csv\", index=False)"
   ]
  }
 ],
 "metadata": {
  "kernelspec": {
   "display_name": "Python 3",
   "language": "python",
   "name": "python3"
  },
  "language_info": {
   "codemirror_mode": {
    "name": "ipython",
    "version": 3
   },
   "file_extension": ".py",
   "mimetype": "text/x-python",
   "name": "python",
   "nbconvert_exporter": "python",
   "pygments_lexer": "ipython3",
   "version": "3.12.6"
  }
 },
 "nbformat": 4,
 "nbformat_minor": 2
}
